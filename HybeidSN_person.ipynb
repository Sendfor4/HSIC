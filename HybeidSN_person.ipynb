{
 "cells": [
  {
   "cell_type": "code",
   "execution_count": 1,
   "metadata": {},
   "outputs": [],
   "source": [
    "import numpy as np\n",
    "import matplotlib.pyplot as plt\n",
    "from tqdm import tqdm\n",
    "import torch\n",
    "import torch.nn as nn\n",
    "import torch.optim as optim\n",
    "import torch.nn.functional as F\n",
    "from torch.utils.data import Dataset, DataLoader\n",
    "from torchinfo import summary\n",
    "from scipy.io import loadmat\n",
    "from sklearn.decomposition import PCA\n",
    "from sklearn.metrics import classification_report, accuracy_score, confusion_matrix, cohen_kappa_score\n",
    "from sklearn.model_selection import train_test_split\n",
    "from operator import truediv\n",
    "import spectral\n",
    "import os\n",
    "import sys\n",
    "import random\n",
    "%matplotlib inline"
   ]
  },
  {
   "cell_type": "markdown",
   "metadata": {},
   "source": [
    "## 加载数据"
   ]
  },
  {
   "cell_type": "markdown",
   "metadata": {},
   "source": [
    "### 设定变量"
   ]
  },
  {
   "cell_type": "code",
   "execution_count": 2,
   "metadata": {},
   "outputs": [],
   "source": [
    "dataset = 'IP'  # 指定数集名称\n",
    "test_ratio = 0.7  # 用于测试样本的比例\n",
    "patch_size = 25  # 每个像素周围提取 patch 的尺寸\n",
    "pca_components = 30  # 使用 PCA 降维，得到主成分的数量"
   ]
  },
  {
   "cell_type": "markdown",
   "metadata": {},
   "source": [
    "### 载入数据"
   ]
  },
  {
   "cell_type": "code",
   "execution_count": 3,
   "metadata": {},
   "outputs": [],
   "source": [
    "def loadData(name):\n",
    "    data_path = os.path.join(os.getcwd(),'dataset')\n",
    "    if name == 'IP':\n",
    "        data = loadmat(os.path.join(data_path, 'IndianPines\\\\Indian_pines_corrected.mat'))['indian_pines_corrected']\n",
    "        labels = loadmat(os.path.join(data_path, 'IndianPines\\\\Indian_pines_gt.mat'))['indian_pines_gt']\n",
    "    elif name == 'SA':\n",
    "        data = loadmat(os.path.join(data_path, 'Salinas\\\\Salinas_corrected.mat'))['salinas_corrected']\n",
    "        labels = loadmat(os.path.join(data_path, 'Salinas\\\\Salinas_gt.mat'))['salinas_gt']\n",
    "    elif name == 'PU':\n",
    "        data = loadmat(os.path.join(data_path, 'PaviaU\\\\PaviaU.mat'))['paviaU']\n",
    "        labels = loadmat(os.path.join(data_path, 'PaviaU\\\\PaviaU_gt.mat'))['paviaU_gt']\n",
    "    \n",
    "    return data, labels"
   ]
  },
  {
   "cell_type": "markdown",
   "metadata": {},
   "source": [
    "### PCA"
   ]
  },
  {
   "cell_type": "code",
   "execution_count": 4,
   "metadata": {},
   "outputs": [],
   "source": [
    "def applyPCA(X, numComponents=15):\n",
    "    newX = np.reshape(X, (-1, X.shape[2]))\n",
    "    pca = PCA(n_components=numComponents, whiten=True)  # PCA 以及 归一\n",
    "    newX = pca.fit_transform(newX)  # 拟合数据并转换 (145*145, 30)\n",
    "    newX = np.reshape(newX, (X.shape[0],X.shape[1], numComponents))\n",
    "    return newX, pca"
   ]
  },
  {
   "cell_type": "markdown",
   "metadata": {},
   "source": [
    "### 填充边缘"
   ]
  },
  {
   "cell_type": "code",
   "execution_count": 5,
   "metadata": {},
   "outputs": [],
   "source": [
    "def padWithZeros(X, margin=2):\n",
    "    newX = np.zeros((X.shape[0] + 2 * margin, X.shape[1] + 2* margin, X.shape[2]))\n",
    "    x_offset = margin\n",
    "    y_offset = margin\n",
    "    newX[x_offset:X.shape[0] + x_offset, y_offset:X.shape[1] + y_offset, :] = X\n",
    "    return newX"
   ]
  },
  {
   "cell_type": "markdown",
   "metadata": {},
   "source": [
    "### 构建立方块"
   ]
  },
  {
   "cell_type": "code",
   "execution_count": 6,
   "metadata": {},
   "outputs": [],
   "source": [
    "def createImageCubes(X, y, patch_size=5, removeZeroLabels = True):\n",
    "    margin = int((patch_size - 1) / 2)\n",
    "    zeroPaddedX = padWithZeros(X, margin=margin)\n",
    "    # split patches\n",
    "    patchesData = np.zeros((X.shape[0] * X.shape[1], patch_size, patch_size, X.shape[2]))\n",
    "    # (21025, 25, 25, 200)\n",
    "    patchesLabels = np.zeros((X.shape[0] * X.shape[1]))\n",
    "    # (21025, )\n",
    "    patchIndex = 0\n",
    "    for r in range(margin, zeroPaddedX.shape[0] - margin):\n",
    "        for c in range(margin, zeroPaddedX.shape[1] - margin):\n",
    "            patch = zeroPaddedX[r - margin:r + margin + 1, c - margin:c + margin + 1]   \n",
    "            # [r - 12 : r + 12 + 1, c -12 : c + 12 + 1]\n",
    "            patchesData[patchIndex, :, :, :] = patch\n",
    "            patchesLabels[patchIndex] = y[r-margin, c-margin]\n",
    "            patchIndex = patchIndex + 1\n",
    "    \n",
    "    # 去掉 gt 标签集 groundtruth 中为 0 的数据\n",
    "    if removeZeroLabels:\n",
    "        patchesData = patchesData[patchesLabels>0,:,:,:]\n",
    "        patchesLabels = patchesLabels[patchesLabels>0]\n",
    "        patchesLabels -= 1\n",
    "        \n",
    "    return patchesData, patchesLabels"
   ]
  },
  {
   "cell_type": "markdown",
   "metadata": {},
   "source": [
    "### 载入并处理"
   ]
  },
  {
   "cell_type": "code",
   "execution_count": 7,
   "metadata": {},
   "outputs": [
    {
     "data": {
      "text/plain": [
       "((145, 145, 200), (145, 145), 21025)"
      ]
     },
     "execution_count": 7,
     "metadata": {},
     "output_type": "execute_result"
    }
   ],
   "source": [
    "data, label = loadData(dataset)\n",
    "data.shape, label.shape, data.shape[0]*data.shape[1]"
   ]
  },
  {
   "cell_type": "code",
   "execution_count": 8,
   "metadata": {},
   "outputs": [
    {
     "data": {
      "text/plain": [
       "(145, 145, 30)"
      ]
     },
     "execution_count": 8,
     "metadata": {},
     "output_type": "execute_result"
    }
   ],
   "source": [
    "pca_components = pca_components if dataset == 'IP' else 15\n",
    "X, pca = applyPCA(data, numComponents=pca_components)\n",
    "y = label\n",
    "X.shape"
   ]
  },
  {
   "cell_type": "code",
   "execution_count": 9,
   "metadata": {},
   "outputs": [
    {
     "data": {
      "text/plain": [
       "((10249, 25, 25, 30), (10249,))"
      ]
     },
     "execution_count": 9,
     "metadata": {},
     "output_type": "execute_result"
    }
   ],
   "source": [
    "X,y = createImageCubes(X, y, patch_size=patch_size)\n",
    "X.shape, y.shape"
   ]
  },
  {
   "cell_type": "code",
   "execution_count": 10,
   "metadata": {},
   "outputs": [],
   "source": [
    "Xtrain, Xtest, ytrain, ytest = train_test_split(X, \n",
    "                                                y, \n",
    "                                                test_size=test_ratio,\n",
    "                                                random_state=42,\n",
    "                                                stratify=y)"
   ]
  },
  {
   "cell_type": "markdown",
   "metadata": {},
   "source": [
    "### 展示数据集采样信息"
   ]
  },
  {
   "cell_type": "code",
   "execution_count": 11,
   "metadata": {},
   "outputs": [
    {
     "name": "stdout",
     "output_type": "stream",
     "text": [
      "  class   train_num  test_num  all_num  \n",
      "    1        428       1000      1428   \n",
      "    2        249       581       830    \n",
      "    3         71       166       237    \n",
      "    4        145       338       483    \n",
      "    5        219       511       730    \n",
      "    6         8         20        28    \n",
      "    7        143       335       478    \n",
      "    8         6         14        20    \n",
      "    9        292       680       972    \n",
      "    10       736       1719      2455   \n",
      "    11       178       415       593    \n",
      "    12        62       143       205    \n",
      "    13       379       886       1265   \n",
      "    14       116       270       386    \n",
      "    15        28        65        93    \n",
      "    16        0         0         0     \n",
      "  total      3060      7143     10203   \n"
     ]
    }
   ],
   "source": [
    "sample_report = f\"{'class': ^10}{'train_num':^10}{'test_num': ^10}{'all_num':^10}\\n\"\n",
    "for i in np.unique(label):\n",
    "    if i == 0: continue\n",
    "    sample_report += f\"{i: ^10}{(ytrain==i).sum(): ^10}{(ytest==i).sum(): ^10}{(y==i).sum(): ^10}\\n\"\n",
    "sample_report += f\"{'total': ^10}{np.count_nonzero(ytrain): ^10}{np.count_nonzero(ytest): ^10}{np.count_nonzero(y): ^10}\"\n",
    "print(sample_report)"
   ]
  },
  {
   "cell_type": "markdown",
   "metadata": {},
   "source": [
    "## 构建模型"
   ]
  },
  {
   "cell_type": "code",
   "execution_count": 12,
   "metadata": {},
   "outputs": [],
   "source": [
    "class HybridSN(nn.Module):\n",
    "    def __init__(self, num_classes=16):  # 设置默认分类种类为16类，与Indian Pines数据集的类别数量相同\n",
    "          super(HybridSN, self).__init__()\n",
    "          self.Conv1 = nn.Sequential(\n",
    "                         nn.Conv3d(in_channels=1,out_channels=8,kernel_size=(7, 3, 3)),\n",
    "                         nn.ReLU(inplace=True))\n",
    "          self.Conv2 = nn.Sequential(\n",
    "                         nn.Conv3d(in_channels=8,out_channels=16,kernel_size=(5, 3, 3)),\n",
    "                         nn.ReLU(inplace=True))\n",
    "          self.Conv3 = nn.Sequential(\n",
    "                         nn.Conv3d(in_channels=16,out_channels=32,kernel_size=(3, 3, 3)),\n",
    "                         nn.ReLU(inplace=True))\n",
    "          \n",
    "          self.Conv4 = nn.Sequential(\n",
    "               nn.Conv2d(576, 64, (3, 3)),\n",
    "               nn.BatchNorm2d(64),\n",
    "               nn.ReLU(inplace=True)\n",
    "          )\n",
    "          # 对数据进行展平\n",
    "          self.flatten = nn.Flatten()\n",
    "          # 从 18496 个节点映射到 256 个节点\n",
    "          self.dense1 = nn.Linear(18496, 256)\n",
    "          # 从 256 个节点映射到 128 个节点\n",
    "          self.dense2 = nn.Linear(256, 128)\n",
    "          # 从 256 个节点映射到 分类 的类别\n",
    "          self.dense3 = nn.Linear(128, num_classes)\n",
    "          # 丢失神经元概率为0.5\n",
    "          self.drop = nn.Dropout(p=0.5)\n",
    "\n",
    "    # 前向传播\n",
    "    def forward(self, x):\n",
    "          x = self.Conv1(x)  # 第一层三维卷积\n",
    "          x = self.Conv2(x)  # 第二层三维卷积\n",
    "          x = self.Conv3(x)  # 第三层三维卷积\n",
    "          x = x.reshape(-1, x.shape[1] * x.shape[2], x.shape[3], x.shape[4])\n",
    "          x = self.Conv4(x)  # 二维卷积\n",
    "          x = self.flatten(x)  # 展平\n",
    "          x = F.relu(self.drop(self.dense1(x)))  # 映射\n",
    "          x = F.relu(self.drop(self.dense2(x)))  # 映射\n",
    "          x = self.dense3(x)  # 映射\n",
    "          \n",
    "          return x\n"
   ]
  },
  {
   "cell_type": "markdown",
   "metadata": {},
   "source": [
    "### 测试网络是否跑通"
   ]
  },
  {
   "cell_type": "code",
   "execution_count": 13,
   "metadata": {},
   "outputs": [
    {
     "name": "stdout",
     "output_type": "stream",
     "text": [
      "torch.Size([1, 16])\n"
     ]
    }
   ],
   "source": [
    "module = HybridSN()\n",
    "input = torch.ones(((1, 1, 30, 25, 25)))\n",
    "output = module(input)\n",
    "print(output.shape)"
   ]
  },
  {
   "cell_type": "code",
   "execution_count": 14,
   "metadata": {},
   "outputs": [],
   "source": [
    "# summary(module, input_size=(1,30,25,25),col_names=['num_params','kernel_size','mult_adds','input_size','output_size'],col_width=10,row_settings=['var_names'],depth=4)"
   ]
  },
  {
   "cell_type": "markdown",
   "metadata": {},
   "source": [
    "## 迭代数据"
   ]
  },
  {
   "cell_type": "code",
   "execution_count": 15,
   "metadata": {},
   "outputs": [
    {
     "data": {
      "text/plain": [
       "((3074, 1, 30, 25, 25), (7175, 1, 30, 25, 25))"
      ]
     },
     "execution_count": 15,
     "metadata": {},
     "output_type": "execute_result"
    }
   ],
   "source": [
    "# 转换数据以适应 pytorch 结构\n",
    "Xtrain = Xtrain.reshape(-1, patch_size, patch_size, pca_components, 1)\n",
    "Xtest  = Xtest.reshape(-1, patch_size, patch_size, pca_components, 1)\n",
    "Xtrain = Xtrain.transpose(0, 4, 3, 1, 2)\n",
    "Xtest  = Xtest.transpose(0, 4, 3, 1, 2)\n",
    "Xtrain.shape,Xtest.shape"
   ]
  },
  {
   "cell_type": "markdown",
   "metadata": {},
   "source": [
    "### 创建可以迭代的训练集和测试集类"
   ]
  },
  {
   "cell_type": "code",
   "execution_count": 16,
   "metadata": {},
   "outputs": [],
   "source": [
    "class TrainDataset(Dataset):\n",
    "    def __init__(self):\n",
    "        self.len = Xtrain.shape[0]\n",
    "        self.X_data = torch.FloatTensor(Xtrain)\n",
    "        self.y_data = torch.LongTensor(ytrain)\n",
    "\n",
    "    def __getitem__(self, index):\n",
    "        return self.X_data[index], self.y_data[index]\n",
    "    \n",
    "    def __len__(self):\n",
    "        return self.len"
   ]
  },
  {
   "cell_type": "code",
   "execution_count": 17,
   "metadata": {},
   "outputs": [],
   "source": [
    "class TestDataset(Dataset):\n",
    "    def __init__(self):\n",
    "        self.len = Xtest.shape[0]\n",
    "        self.X_data = torch.FloatTensor(Xtest)\n",
    "        self.y_data = torch.LongTensor(ytest)\n",
    "\n",
    "    def __getitem__(self, index):\n",
    "        return self.X_data[index], self.y_data[index]\n",
    "    \n",
    "    def __len__(self):\n",
    "        return self.len"
   ]
  },
  {
   "cell_type": "markdown",
   "metadata": {},
   "source": [
    "### 构造Dataloader"
   ]
  },
  {
   "cell_type": "code",
   "execution_count": 18,
   "metadata": {},
   "outputs": [],
   "source": [
    "TrainDataset = TrainDataset()\n",
    "TestDataset = TestDataset()\n",
    "\n",
    "batch_size = 128\n",
    "\n",
    "if torch.cuda.is_available():\n",
    "    nw = min([os.cpu_count(), batch_size if batch_size > 1 else 0, 8])  # number of workers\n",
    "    print('Using {} dataloader workers every process'.format(nw))\n",
    "else:\n",
    "    nw = 0\n",
    "\n",
    "train_loader = DataLoader(TrainDataset, batch_size=batch_size, shuffle=True, num_workers=nw)\n",
    "test_loader = DataLoader(TestDataset, batch_size=batch_size, shuffle=False, num_workers=nw)"
   ]
  },
  {
   "cell_type": "markdown",
   "metadata": {},
   "source": [
    "## 训练模型并绘制曲线"
   ]
  },
  {
   "cell_type": "code",
   "execution_count": 19,
   "metadata": {},
   "outputs": [
    {
     "name": "stdout",
     "output_type": "stream",
     "text": [
      "train epoch[1/100] loss:1.832: 100%|██████████| 25/25 [00:27<00:00,  1.09s/it]\n",
      "train epoch[2/100] loss:2.979: 100%|██████████| 25/25 [00:27<00:00,  1.11s/it]\n",
      "train epoch[3/100] loss:1.058:  40%|████      | 10/25 [00:13<00:19,  1.32s/it]\n"
     ]
    },
    {
     "ename": "KeyboardInterrupt",
     "evalue": "",
     "output_type": "error",
     "traceback": [
      "\u001b[1;31m---------------------------------------------------------------------------\u001b[0m",
      "\u001b[1;31mKeyboardInterrupt\u001b[0m                         Traceback (most recent call last)",
      "Cell \u001b[1;32mIn[19], line 37\u001b[0m\n\u001b[0;32m     35\u001b[0m outputs \u001b[38;5;241m=\u001b[39m net(inputs)\n\u001b[0;32m     36\u001b[0m loss \u001b[38;5;241m=\u001b[39m loss_function(outputs, labels)\n\u001b[1;32m---> 37\u001b[0m \u001b[43mloss\u001b[49m\u001b[38;5;241;43m.\u001b[39;49m\u001b[43mbackward\u001b[49m\u001b[43m(\u001b[49m\u001b[43m)\u001b[49m\n\u001b[0;32m     38\u001b[0m optimizer\u001b[38;5;241m.\u001b[39mstep()\n\u001b[0;32m     40\u001b[0m \u001b[38;5;66;03m# print statistics\u001b[39;00m\n",
      "File \u001b[1;32mc:\\Users\\Sendfor\\PyWORKSPACE\\stu_torch\\venv\\lib\\site-packages\\torch\\_tensor.py:492\u001b[0m, in \u001b[0;36mTensor.backward\u001b[1;34m(self, gradient, retain_graph, create_graph, inputs)\u001b[0m\n\u001b[0;32m    482\u001b[0m \u001b[38;5;28;01mif\u001b[39;00m has_torch_function_unary(\u001b[38;5;28mself\u001b[39m):\n\u001b[0;32m    483\u001b[0m     \u001b[38;5;28;01mreturn\u001b[39;00m handle_torch_function(\n\u001b[0;32m    484\u001b[0m         Tensor\u001b[38;5;241m.\u001b[39mbackward,\n\u001b[0;32m    485\u001b[0m         (\u001b[38;5;28mself\u001b[39m,),\n\u001b[1;32m   (...)\u001b[0m\n\u001b[0;32m    490\u001b[0m         inputs\u001b[38;5;241m=\u001b[39minputs,\n\u001b[0;32m    491\u001b[0m     )\n\u001b[1;32m--> 492\u001b[0m \u001b[43mtorch\u001b[49m\u001b[38;5;241;43m.\u001b[39;49m\u001b[43mautograd\u001b[49m\u001b[38;5;241;43m.\u001b[39;49m\u001b[43mbackward\u001b[49m\u001b[43m(\u001b[49m\n\u001b[0;32m    493\u001b[0m \u001b[43m    \u001b[49m\u001b[38;5;28;43mself\u001b[39;49m\u001b[43m,\u001b[49m\u001b[43m \u001b[49m\u001b[43mgradient\u001b[49m\u001b[43m,\u001b[49m\u001b[43m \u001b[49m\u001b[43mretain_graph\u001b[49m\u001b[43m,\u001b[49m\u001b[43m \u001b[49m\u001b[43mcreate_graph\u001b[49m\u001b[43m,\u001b[49m\u001b[43m \u001b[49m\u001b[43minputs\u001b[49m\u001b[38;5;241;43m=\u001b[39;49m\u001b[43minputs\u001b[49m\n\u001b[0;32m    494\u001b[0m \u001b[43m\u001b[49m\u001b[43m)\u001b[49m\n",
      "File \u001b[1;32mc:\\Users\\Sendfor\\PyWORKSPACE\\stu_torch\\venv\\lib\\site-packages\\torch\\autograd\\__init__.py:251\u001b[0m, in \u001b[0;36mbackward\u001b[1;34m(tensors, grad_tensors, retain_graph, create_graph, grad_variables, inputs)\u001b[0m\n\u001b[0;32m    246\u001b[0m     retain_graph \u001b[38;5;241m=\u001b[39m create_graph\n\u001b[0;32m    248\u001b[0m \u001b[38;5;66;03m# The reason we repeat the same comment below is that\u001b[39;00m\n\u001b[0;32m    249\u001b[0m \u001b[38;5;66;03m# some Python versions print out the first line of a multi-line function\u001b[39;00m\n\u001b[0;32m    250\u001b[0m \u001b[38;5;66;03m# calls in the traceback and some print out the last line\u001b[39;00m\n\u001b[1;32m--> 251\u001b[0m \u001b[43mVariable\u001b[49m\u001b[38;5;241;43m.\u001b[39;49m\u001b[43m_execution_engine\u001b[49m\u001b[38;5;241;43m.\u001b[39;49m\u001b[43mrun_backward\u001b[49m\u001b[43m(\u001b[49m\u001b[43m  \u001b[49m\u001b[38;5;66;43;03m# Calls into the C++ engine to run the backward pass\u001b[39;49;00m\n\u001b[0;32m    252\u001b[0m \u001b[43m    \u001b[49m\u001b[43mtensors\u001b[49m\u001b[43m,\u001b[49m\n\u001b[0;32m    253\u001b[0m \u001b[43m    \u001b[49m\u001b[43mgrad_tensors_\u001b[49m\u001b[43m,\u001b[49m\n\u001b[0;32m    254\u001b[0m \u001b[43m    \u001b[49m\u001b[43mretain_graph\u001b[49m\u001b[43m,\u001b[49m\n\u001b[0;32m    255\u001b[0m \u001b[43m    \u001b[49m\u001b[43mcreate_graph\u001b[49m\u001b[43m,\u001b[49m\n\u001b[0;32m    256\u001b[0m \u001b[43m    \u001b[49m\u001b[43minputs\u001b[49m\u001b[43m,\u001b[49m\n\u001b[0;32m    257\u001b[0m \u001b[43m    \u001b[49m\u001b[43mallow_unreachable\u001b[49m\u001b[38;5;241;43m=\u001b[39;49m\u001b[38;5;28;43;01mTrue\u001b[39;49;00m\u001b[43m,\u001b[49m\n\u001b[0;32m    258\u001b[0m \u001b[43m    \u001b[49m\u001b[43maccumulate_grad\u001b[49m\u001b[38;5;241;43m=\u001b[39;49m\u001b[38;5;28;43;01mTrue\u001b[39;49;00m\u001b[43m,\u001b[49m\n\u001b[0;32m    259\u001b[0m \u001b[43m\u001b[49m\u001b[43m)\u001b[49m\n",
      "\u001b[1;31mKeyboardInterrupt\u001b[0m: "
     ]
    },
    {
     "data": {
      "image/png": "[encoded data removed]",
      "text/plain": [
       "<Figure size 640x480 with 2 Axes>"
      ]
     },
     "metadata": {},
     "output_type": "display_data"
    }
   ],
   "source": [
    "device = torch.device('cuda:0' if torch.cuda.is_available() else 'cpu')\n",
    "\n",
    "model_name = 'HybridSN'\n",
    "net = HybridSN()\n",
    "net.to(device=device)\n",
    "loss_function = nn.CrossEntropyLoss()\n",
    "optimizer = optim.Adam(net.parameters(), lr=0.001)\n",
    "\n",
    "loss_list = []\n",
    "val_acc_list = []\n",
    "val_epoch_list = []\n",
    "\n",
    "epochs = 100\n",
    "best_acc = 0.0\n",
    "save_path = './{}Net.pth'.format(model_name)\n",
    "train_steps = len(train_loader)\n",
    "train_num = train_loader.dataset.__len__()\n",
    "val_num = test_loader.dataset.__len__()\n",
    "\n",
    "fig = plt.figure()\n",
    "ax1 = fig.add_subplot(2,1,1)\n",
    "ax2 = fig.add_subplot(2,1,2)\n",
    "\n",
    "for epoch in range(epochs):\n",
    "    # train\n",
    "    net.train()\n",
    "    running_loss = 0.0\n",
    "    train_bar = tqdm(train_loader, file=sys.stdout)\n",
    "\n",
    "    for batch_idx, (inputs, labels) in enumerate(train_bar):\n",
    "        inputs = inputs.to(device)\n",
    "        labels = labels.to(device)\n",
    "\n",
    "        optimizer.zero_grad()\n",
    "        outputs = net(inputs)\n",
    "        loss = loss_function(outputs, labels)\n",
    "        loss.backward()\n",
    "        optimizer.step()\n",
    "\n",
    "        # print statistics\n",
    "        running_loss += loss.item()\n",
    "        train_bar.desc = 'train epoch[{}/{}] loss:{:.3f}'.format(epoch+1, epochs, loss)\n",
    "    loss_list.append(running_loss/train_num)\n",
    "\n",
    "    # validate,after train 5 times \n",
    "    if (epoch+1)%5==0 or (epoch+1)==epochs:\n",
    "        acc = 0.0 # accumulate accurate number / epoch\n",
    "        net.eval()\n",
    "        with torch.no_grad():\n",
    "            val_bar = tqdm(test_loader, file=sys.stdout)\n",
    "\n",
    "            for batch_idx, (val_inputs, val_labels) in enumerate(val_bar):\n",
    "                val_inputs = val_inputs.to(device)\n",
    "                val_labels = val_labels.to(device)\n",
    "                outputs = net(val_inputs)\n",
    "                predict_y = torch.max(outputs, dim=1)[1] # [1]我们只需要知道最大值所在的位置在哪里，也就是索引\n",
    "                acc += torch.eq(predict_y, val_labels).sum().item()\n",
    "\n",
    "        val_accurate = acc / val_num\n",
    "        val_acc_list.append(val_accurate)\n",
    "        val_epoch_list.append(epoch)\n",
    "        print('[epoch %d] train_loss: %.3f  val_accuracy: %.3f' %\n",
    "                (epoch + 1, running_loss / train_steps, val_accurate))\n",
    "        \n",
    "        # get best model\n",
    "        if val_accurate > best_acc:\n",
    "                best_acc = val_accurate\n",
    "                torch.save(net.state_dict(), save_path)\n",
    "\n",
    "ax1.plot(np.arange(epoch+1), loss_list, label='loss')\n",
    "ax1.set_title('loss')\n",
    "ax1.set_xlabel('epoch')\n",
    "ax1.legend()\n",
    "\n",
    "ax2.plot(val_epoch_list, val_acc_list, label = 'val_acc', c='orange')\n",
    "ax2.set_title('acc')\n",
    "ax2.set_xlabel('epoch')\n",
    "ax2.legend()\n",
    "\n",
    "print('Finished Training')"
   ]
  },
  {
   "cell_type": "markdown",
   "metadata": {},
   "source": [
    "## 载入模型验证"
   ]
  },
  {
   "cell_type": "markdown",
   "metadata": {},
   "source": [
    "### 生成分类报告"
   ]
  },
  {
   "cell_type": "code",
   "execution_count": null,
   "metadata": {},
   "outputs": [],
   "source": [
    "model = HybridSN().to(device=device)\n",
    "weights_path = save_path\n",
    "assert os.path.exists(weights_path), \"file: '{}' dose not exist.\".format(weights_path)\n",
    "model.load_state_dict(torch.load(weights_path, map_location=device))\n",
    "\n",
    "model.eval()\n",
    "y_pred_test = []\n",
    "for inputs, _ in test_loader:\n",
    "    inputs = inputs.to(device)\n",
    "    outputs = model(inputs)\n",
    "    predicted = np.argmax(outputs.detach().cpu().numpy(), axis=1)\n",
    "    y_pred_test.append(predicted)\n",
    "\n",
    "y_pred_test = np.concatenate(y_pred_test)\n",
    "\n",
    "\n",
    "classification = classification_report(ytest, y_pred_test, digits=4)\n",
    "print(classification)"
   ]
  },
  {
   "cell_type": "code",
   "execution_count": null,
   "metadata": {},
   "outputs": [],
   "source": [
    "def AA_andEachClassAccuracy(confusion_matrix):\n",
    "    counter = confusion_matrix.shape[0]\n",
    "    list_diag = np.diag(confusion_matrix)\n",
    "    list_raw_sum = np.sum(confusion_matrix, axis=1)\n",
    "    each_acc = np.nan_to_num(truediv(list_diag, list_raw_sum))\n",
    "    average_acc = np.mean(each_acc)\n",
    "    return each_acc, average_acc"
   ]
  },
  {
   "cell_type": "code",
   "execution_count": null,
   "metadata": {},
   "outputs": [],
   "source": [
    "def reports (test_loader,y_test,name):\n",
    "    count = 0\n",
    "    # 模型测试\n",
    "    for inputs, _ in test_loader:\n",
    "        inputs = inputs.to(device)\n",
    "        outputs = net(inputs)\n",
    "        outputs = np.argmax(outputs.detach().cpu().numpy(), axis=1)\n",
    "        if count == 0:\n",
    "            y_pred = outputs\n",
    "            count = 1\n",
    "        else:\n",
    "            y_pred = np.concatenate((y_pred, outputs))\n",
    "\n",
    "    if name == 'IP':\n",
    "        target_names = ['Alfalfa', 'Corn-notill', 'Corn-mintill', 'Corn'\n",
    "                        ,'Grass-pasture', 'Grass-trees', 'Grass-pasture-mowed', \n",
    "                        'Hay-windrowed', 'Oats', 'Soybean-notill', 'Soybean-mintill',\n",
    "                        'Soybean-clean', 'Wheat', 'Woods', 'Buildings-Grass-Trees-Drives',\n",
    "                        'Stone-Steel-Towers']\n",
    "    elif name == 'SA':\n",
    "        target_names = ['Brocoli_green_weeds_1','Brocoli_green_weeds_2','Fallow','Fallow_rough_plow','Fallow_smooth',\n",
    "                        'Stubble','Celery','Grapes_untrained','Soil_vinyard_develop','Corn_senesced_green_weeds',\n",
    "                        'Lettuce_romaine_4wk','Lettuce_romaine_5wk','Lettuce_romaine_6wk','Lettuce_romaine_7wk',\n",
    "                        'Vinyard_untrained','Vinyard_vertical_trellis']\n",
    "    elif name == 'PU':\n",
    "        target_names = ['Asphalt','Meadows','Gravel','Trees', 'Painted metal sheets','Bare Soil','Bitumen',\n",
    "                        'Self-Blocking Bricks','Shadows']\n",
    "    \n",
    "    classification = classification_report(y_test, y_pred, target_names=target_names)\n",
    "    oa = accuracy_score(y_test, y_pred)\n",
    "    confusion = confusion_matrix((y_test, y_pred)\n",
    "    each_acc, aa = AA_andEachClassAccuracy(confusion)\n",
    "    kappa = cohen_kappa_score(y_test, y_pred)\n",
    "    \n",
    "    return classification, confusion, oa*100, each_acc*100, aa*100, kappa*100"
   ]
  },
  {
   "cell_type": "code",
   "execution_count": null,
   "metadata": {},
   "outputs": [],
   "source": [
    "classification, confusion, oa, each_acc, aa, kappa = reports(test_loader, ytest, 'IP')\n",
    "classification = str(classification)\n",
    "confusion = str(confusion)\n",
    "file_name = \"classification_report.txt\""
   ]
  },
  {
   "cell_type": "code",
   "execution_count": null,
   "metadata": {},
   "outputs": [],
   "source": [
    "with open(file_name, 'w') as x_file:\n",
    "    x_file.write('\\n')\n",
    "    x_file.write('{} Kappa accuracy (%)'.format(kappa))\n",
    "    x_file.write('\\n')\n",
    "    x_file.write('{} Overall accuracy (%)'.format(oa))\n",
    "    x_file.write('\\n')\n",
    "    x_file.write('{} Average accuracy (%)'.format(aa))\n",
    "    x_file.write('\\n')\n",
    "    x_file.write('\\n')\n",
    "    x_file.write('{}'.format(classification))\n",
    "    x_file.write('\\n')\n",
    "    x_file.write('{}'.format(confusion))"
   ]
  },
  {
   "cell_type": "code",
   "execution_count": null,
   "metadata": {},
   "outputs": [],
   "source": [
    "def Patch(data,height_index,width_index):\n",
    "    height_slice = slice(height_index, height_index+patch_size)\n",
    "    width_slice = slice(width_index, width_index+patch_size)\n",
    "    patch = data[height_slice, width_slice, :]\n",
    "    \n",
    "    return patch"
   ]
  },
  {
   "cell_type": "code",
   "execution_count": null,
   "metadata": {},
   "outputs": [],
   "source": [
    "# load the original image\n",
    "X, y = loadData(dataset)"
   ]
  },
  {
   "cell_type": "code",
   "execution_count": null,
   "metadata": {},
   "outputs": [],
   "source": [
    "height = y.shape[0]\n",
    "width = y.shape[1]\n",
    "patch_size = patch_size\n",
    "numComponents = pca_components"
   ]
  },
  {
   "cell_type": "code",
   "execution_count": null,
   "metadata": {},
   "outputs": [],
   "source": [
    "X,pca = applyPCA(X, numComponents=3)\n",
    "X.shape"
   ]
  },
  {
   "cell_type": "code",
   "execution_count": null,
   "metadata": {},
   "outputs": [],
   "source": [
    "X = padWithZeros(X, patch_size//2)\n",
    "X.shape"
   ]
  },
  {
   "cell_type": "code",
   "execution_count": null,
   "metadata": {},
   "outputs": [],
   "source": [
    "#逐像素预测图像类别\n",
    "outputs = np.zeros((height,width))\n",
    "for i in range(height):\n",
    "    for j in range(width):\n",
    "        target = int(y[i,j])\n",
    "        if target == 0 :\n",
    "            continue\n",
    "        else :\n",
    "            image_patch=Patch(X,i,j)\n",
    "            X_test_image = image_patch.reshape(1,image_patch.shape[0],image_patch.shape[1], image_patch.shape[2]).astype('float32')                                   \n",
    "            prediction = (model.predict(X_test_image))\n",
    "            prediction = np.argmax(prediction, axis=1)\n",
    "            outputs[i][j] = prediction+1"
   ]
  },
  {
   "cell_type": "code",
   "execution_count": null,
   "metadata": {},
   "outputs": [],
   "source": [
    "ground_truth = spectral.imshow(classes = y,figsize =(7,7))"
   ]
  },
  {
   "cell_type": "code",
   "execution_count": null,
   "metadata": {},
   "outputs": [],
   "source": [
    "predict_image = spectral.imshow(classes = outputs.astype(int),figsize =(7,7))"
   ]
  }
 ],
 "metadata": {
  "kernelspec": {
   "display_name": "venv",
   "language": "python",
   "name": "python3"
  },
  "language_info": {
   "codemirror_mode": {
    "name": "ipython",
    "version": 3
   },
   "file_extension": ".py",
   "mimetype": "text/x-python",
   "name": "python",
   "nbconvert_exporter": "python",
   "pygments_lexer": "ipython3",
   "version": "3.10.9"
  }
 },
 "nbformat": 4,
 "nbformat_minor": 2
}
